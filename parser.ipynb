{
 "cells": [
  {
   "cell_type": "markdown",
   "metadata": {},
   "source": [
    "## 출력 파서(Output Parsers)\n",
    "\n",
    "#### 출력파서의 역할\n",
    "* LLM의 출력을 받아 더 적합한 형식으로 변환\n",
    "* 구조화된 데이터 생성에 매우 유용\n",
    "* LangChain 프레임워크에서 다양한 종류의 출력 데이터를 파싱하고 처리\n",
    "\n",
    "\n",
    "#### 출력파서의 이점 \n",
    "* 구조화: LLM의 자유 형식 텍스트 출력을 구조화된 데이터로 변환합니다.\n",
    "* 일관성: 출력 형식을 일관되게 유지하여 후속 처리를 용이하게 합니다.\n",
    "* 유연성: 다양한 출력 형식(JSON, 리스트, 딕셔너리 등)으로 변환이 가능합니다.\n",
    "\n",
    "#### 출력파서를 사용하지 않을 때와 사용할 때\n",
    "\n",
    "* 사용하지 않을 때\n",
    "\n",
    "```\n",
    "**중요 내용 추출:**\n",
    "\n",
    "1. **발신자:** 김철수 (chulsoo.kim@bikecorporation.me)\n",
    "2. **수신자:** 이은채 (eunchae@teddyinternational.me)\n",
    "3. **제목:** \"ZENESIS\" 자전거 유통 협력 및 미팅 일정 제안\n",
    "4. **요청 사항:**\n",
    "   - ZENESIS 모델의 상세한 브로슈어 요청 (기술 사양, 배터리 성능, 디자인 정보 포함)\n",
    "5. **미팅 제안:**\n",
    "   - 날짜: 다음 주 화요일 (1월 15일)\n",
    "   - 시간: 오전 10시\n",
    "   - 장소: 귀사 사무실\n",
    "\n",
    "6. **발신자 정보:**\n",
    "   - 김철수, 상무이사, 바이크코퍼레이션\n",
    "```\n",
    "\n",
    "* 사용할 때(JSON 형식의 구조화된 답변)\n",
    "\n",
    "```\n",
    "{\n",
    "  \"person\": \"김철수\",\n",
    "  \"email\": \"chulsoo.kim@bikecorporation.me\",\n",
    "  \"subject\": \"\\\"ZENESIS\\\" 자전거 유통 협력 및 미팅 일정 제안\",\n",
    "  \"summary\": \"바이크코퍼레이션의 김철수 상무가 테디인터내셔널의 이은채 대리에게 신규 자전거 'ZENESIS' 모델에 대한 브로슈어 요청과 기술 사양, 배터리 성능, 디자인 정보 요청. 또한, 협력 논의를 위해 1월 15일 오전 10시에 미팅 제안.\",\n",
    "  \"date\": \"1월 15일 오전 10시\"\n",
    "}\n",
    "```\n"
   ]
  },
  {
   "cell_type": "markdown",
   "metadata": {
    "vscode": {
     "languageId": "plaintext"
    }
   },
   "source": [
    "## 01. Pydantic 출력 파서(PydanticOutputParser)\n",
    "\n",
    "#### PydanticOuputParser\n",
    "* 언어 모델의 출력을 더 구조화된 정보로 변환 하는 데 도움이 되는 클래스입니다. 단순 텍스트 형태의 응답 대신, 사용자가 필요로 하는 정보를 명확하고 체계적인 형태로 제공\n",
    "  * get_format_instructions(): 언어 모델이 출력해야 할 정보의 형식을 정의하는 지침(instruction) 을 제공합니다. 예를 들어, 언어 모델이 출력해야 할 데이터의 필드와 그 형태를 설명하는 지침을 문자열로 반환할 수 있습니다. 이때 설정하는 지침(instruction) 의 역할이 매우 중요합니다. 이 지침에 따라 언어 모델은 출력을 구조화하고, 이를 특정 데이터 모델에 맞게 변환할 수 있습니다.\n",
    "\n",
    "  * parse(): 언어 모델의 출력(문자열로 가정)을 받아들여 이를 특정 구조로 분석하고 변환합니다. Pydantic와 같은 도구를 사용하여, 입력된 문자열을 사전 정의된 스키마에 따라 검증하고, 해당 스키마를 따르는 데이터 구조로 변환합니다."
   ]
  },
  {
   "cell_type": "code",
   "execution_count": 1,
   "metadata": {},
   "outputs": [],
   "source": [
    "email_conversation = \"\"\"From: 김철수 (chulsoo.kim@bikecorporation.me)\n",
    "To: 이은채 (eunchae@teddyinternational.me)\n",
    "Subject: \"ZENESIS\" 자전거 유통 협력 및 미팅 일정 제안\n",
    "\n",
    "안녕하세요, 이은채 대리님,\n",
    "\n",
    "저는 바이크코퍼레이션의 김철수 상무입니다. 최근 보도자료를 통해 귀사의 신규 자전거 \"ZENESIS\"에 대해 알게 되었습니다. 바이크코퍼레이션은 자전거 제조 및 유통 분야에서 혁신과 품질을 선도하는 기업으로, 이 분야에서의 장기적인 경험과 전문성을 가지고 있습니다.\n",
    "\n",
    "ZENESIS 모델에 대한 상세한 브로슈어를 요청드립니다. 특히 기술 사양, 배터리 성능, 그리고 디자인 측면에 대한 정보가 필요합니다. 이를 통해 저희가 제안할 유통 전략과 마케팅 계획을 보다 구체화할 수 있을 것입니다.\n",
    "\n",
    "또한, 협력 가능성을 더 깊이 논의하기 위해 다음 주 화요일(1월 15일) 오전 10시에 미팅을 제안합니다. 귀사 사무실에서 만나 이야기를 나눌 수 있을까요?\n",
    "\n",
    "감사합니다.\n",
    "\n",
    "김철수\n",
    "상무이사\n",
    "바이크코퍼레이션\n",
    "\"\"\""
   ]
  },
  {
   "cell_type": "markdown",
   "metadata": {},
   "source": [
    "#### 출력 파서를 사용하지 않는 경우"
   ]
  },
  {
   "cell_type": "code",
   "execution_count": 17,
   "metadata": {},
   "outputs": [
    {
     "name": "stdout",
     "output_type": "stream",
     "text": [
      "다음은 이메일의 중요한 내용입니다:\n",
      "\n",
      "1. **요청사항**: ZENESIS 자전거 모델에 대한 상세한 브로슈어 요청 (기술 사양, 배터리 성능, 디자인 정보 포함).\n",
      "2. **미팅 제안**: 다음 주 화요일(1월 15일) 오전 10시에 미팅 제안 (장소: 귀사 사무실).\n",
      "3. **목적**: ZENESIS 자전거 유통 협력 논의 및 유통 전략과 마케팅 계획 구체화."
     ]
    }
   ],
   "source": [
    "# 출력 파서를 사용하지 않는 경우\n",
    "from itertools import chain\n",
    "from langchain_core.prompts import PromptTemplate\n",
    "# 실시간 출력을 위한 import\n",
    "from langchain_teddynote.messages import stream_response\n",
    "# BaseModel을 사용하면 데이터 검증, 직렬화, 역직렬화 등의 기능을 쉽게 구현\n",
    "# 필드의 기본 값, 유효성 검사, 설명 등을 지정할 수 있습니다. Field를 사용하여\n",
    "# 데이터의 구체적인 제약 조건을 설정\n",
    "from langchain_core.pydantic_v1 import BaseModel, Field\n",
    "from langchain_community.chat_models import ChatOllama\n",
    "from langchain_openai import ChatOpenAI\n",
    "from dotenv import load_dotenv\n",
    "load_dotenv()\n",
    "# llm = ChatOllama(model=\"llama3.1\", temperature=0, max_length=135)\n",
    "# llm = ChatOpenAI(temperature=0, model_name=\"gpt-3.5-turbo-0125\")\n",
    "llm = ChatOpenAI(temperature=0, model_name=\"gpt-4o\")\n",
    "\n",
    "prompt =PromptTemplate.from_template(\n",
    "    \"다음의 이메일 내용중 중요한 내용을 추출해 주세요.\\n\\n{email_conversation}\"\n",
    ")\n",
    "\n",
    "chain =prompt|llm\n",
    "# 위의 예시 템플릿내 email_conversation 변수에 삽입\n",
    "answer= chain.stream({\"email_conversation\":email_conversation})\n",
    "\n",
    "output =stream_response(answer, return_output=True)\n",
    "# 결과값을 보면 모델이 알아서 중요한 내용을 추출하긴 했다. 하지만 업무에 활용할때는 좀 더 구조화된\n",
    "# 결과물을 선호할수 있다. "
   ]
  },
  {
   "cell_type": "markdown",
   "metadata": {},
   "source": [
    "#### Pydantic 스타일로 정의된 클래스를 사용하여 이메일의 정보를 파싱하기\n",
    "* LLM 경험자로서 이 파서의 가장 큰 장점은 여러질문을 하나로 줄여준다.\n",
    "* 또한 각각의 자료형까지 선택할수 있는 훌륭한 파서다."
   ]
  },
  {
   "cell_type": "code",
   "execution_count": 3,
   "metadata": {},
   "outputs": [
    {
     "name": "stdout",
     "output_type": "stream",
     "text": [
      "The output should be formatted as a JSON instance that conforms to the JSON schema below.\n",
      "\n",
      "As an example, for the schema {\"properties\": {\"foo\": {\"title\": \"Foo\", \"description\": \"a list of strings\", \"type\": \"array\", \"items\": {\"type\": \"string\"}}}, \"required\": [\"foo\"]}\n",
      "the object {\"foo\": [\"bar\", \"baz\"]} is a well-formatted instance of the schema. The object {\"properties\": {\"foo\": [\"bar\", \"baz\"]}} is not well-formatted.\n",
      "\n",
      "Here is the output schema:\n",
      "```\n",
      "{\"properties\": {\"person\": {\"title\": \"Person\", \"description\": \"\\uba54\\uc77c\\uc744 \\ubcf4\\ub0b8 \\uc0ac\\ub78c\", \"type\": \"string\"}, \"email\": {\"title\": \"Email\", \"description\": \"\\uba54\\uc77c\\uc744 \\ubcf4\\ub0b8 \\uc0ac\\ub78c\\uc758 \\uc774\\uba54\\uc77c \\uc8fc\\uc18c\", \"type\": \"string\"}, \"subject\": {\"title\": \"Subject\", \"description\": \"\\uba54\\uc77c \\uc81c\\ubaa9\", \"type\": \"string\"}, \"summary\": {\"title\": \"Summary\", \"description\": \"\\uba54\\uc77c \\ubcf8\\ubb38\\uc744 \\uc694\\uc57d\\ud55c \\ud14d\\uc2a4\\ud2b8\", \"type\": \"string\"}, \"date\": {\"title\": \"Date\", \"description\": \"\\uba54\\uc77c \\ubcf8\\ubb38\\uc5d0 \\uc5b8\\uae09\\ub41c \\ubbf8\\ud305 \\ub0a0\\uc9dc\\uc640 \\uc2dc\\uac04\", \"type\": \"string\"}}, \"required\": [\"person\", \"email\", \"subject\", \"summary\", \"date\"]}\n",
      "```\n"
     ]
    }
   ],
   "source": [
    "from langchain_core.output_parsers import PydanticOutputParser\n",
    "\n",
    "class EmailSummary(BaseModel):\n",
    "    person: str = Field(description=\"메일을 보낸 사람\")\n",
    "    email: str= Field(description=\"메일을 보낸 사람의 이메일 주소\")\n",
    "    subject: str = Field(description=\"메일 제목\")\n",
    "    summary: str = Field(description=\"메일 본문을 요약한 텍스트\")\n",
    "    date: str = Field(description=\"메일 본문에 언급된 미팅 날짜와 시간\")\n",
    "\n",
    "parser = PydanticOutputParser(pydantic_object=EmailSummary)\n",
    "\n",
    "print(parser.get_format_instructions())"
   ]
  },
  {
   "cell_type": "code",
   "execution_count": 19,
   "metadata": {},
   "outputs": [],
   "source": [
    "prompt = PromptTemplate.from_template(\n",
    "    \"\"\"\n",
    "You are a helpful assistant. Please answer the following questions in KOREAN.\n",
    "\n",
    "QUESTION:\n",
    "{question}\n",
    "\n",
    "EMAIL CONVERSATION:\n",
    "{email_conversation}\n",
    "\n",
    "FORMAT:\n",
    "{format}\n",
    "\"\"\"\n",
    ")\n",
    "\n",
    "# partial로 일부 인수 format(parser) 삽입\n",
    "prompt = prompt.partial(format=parser.get_format_instructions())"
   ]
  },
  {
   "cell_type": "code",
   "execution_count": 20,
   "metadata": {},
   "outputs": [
    {
     "name": "stdout",
     "output_type": "stream",
     "text": [
      "```json\n",
      "{\n",
      "  \"person\": \"김철수\",\n",
      "  \"email\": \"chulsoo.kim@bikecorporation.me\",\n",
      "  \"subject\": \"\\\"ZENESIS\\\" 자전거 유통 협력 및 미팅 일정 제안\",\n",
      "  \"summary\": \"바이크코퍼레이션의 김철수 상무가 테디인터내셔널의 이은채 대리에게 신규 자전거 'ZENESIS' 모델에 대한 상세한 브로슈어를 요청하고, 협력 가능성을 논의하기 위해 1월 15일 오전 10시에 미팅을 제안함.\",\n",
      "  \"date\": \"1월 15일 오전 10시\"\n",
      "}\n",
      "```"
     ]
    }
   ],
   "source": [
    "# chain 을 생성합니다.\n",
    "chain= prompt | llm\n",
    "\n",
    "# chain을 실행하고 결과를 출력합니다.\n",
    "response =chain.stream(\n",
    "    {\n",
    "        \"email_conversation\":email_conversation,\n",
    "        \"question\":\"이메일 내용중 주요 내용을 추출해 주세요.\"\n",
    "    }\n",
    ")\n",
    "\n",
    "output =stream_response(response, return_output=True)\n",
    "# gpt-4o, gpt-3.5-turbo-0125, llama3.1 세개의 모델을 돌려봤는데 gpt-4o만이 제대로 결과를 뽑아냈다."
   ]
  },
  {
   "cell_type": "code",
   "execution_count": 15,
   "metadata": {},
   "outputs": [
    {
     "name": "stdout",
     "output_type": "stream",
     "text": [
      "Here is the output in Korean, formatted as a JSON instance that conforms to the provided schema:\n",
      "\n",
      "```\n",
      "{\n",
      "  \"properties\": {\n",
      "    \"person\": {\"title\": \"메일을 보낸 사람\", \"description\": \"\", \"type\": \"string\"},\n",
      "    \"email\": {\"title\": \"메일을 보낸 사람의 이메일 주소\", \"description\": \"\", \"type\": \"string\"},\n",
      "    \"subject\": {\"title\": \"메일 제목\", \"description\": \"\", \"type\": \"string\"},\n",
      "    \"summary\": {\"title\": \"메일 본문을 요약한 텍스트\", \"description\": \"\", \"type\": \"string\"},\n",
      "    \"date\": {\"title\": \"메일 본문에 언급된 미팅 날짜와 시간\", \"description\": \"\", \"type\": \"string\"}\n",
      "  },\n",
      "  \"required\": [\n",
      "    \"person\",\n",
      "    \"email\",\n",
      "    \"subject\",\n",
      "    \"summary\",\n",
      "    \"date\"\n",
      "  ],\n",
      "  \"person\": \"메일을 보낸 사람: 카에이쾔의 시간없안요\",\n",
      "  \"email\": \"카에이쾔의 이메일 주소: eunchae@teddyinternational.me\",\n",
      "  \"subject\": \"메일 제목: ZENESIS\",\n",
      "  \"summary\": \"메일 본문을 요약한 텍스트: 카에이쾔의 시간없안요 메일을 보낸 사람 없안요\",\n",
      "  \"date\": \"메일 본문에 언급된 미팅 날짜와 시간: \"\n",
      "}\n",
      "```\n",
      "\n",
      "Note that the `summary` field contains a summary of the email content, which is:\n",
      "\n",
      "\"카에이쾔의 시간없안요 메일을 보낸 사람 없안요: 메일 본문을 요약한 텍스트\" which translates to \"Summary of the email content: The sender is proposing a meeting to discuss cooperation and distribution of ZENESIS bicycles.\"\n"
     ]
    }
   ],
   "source": [
    "# llama3.1 모델은 심지에 결과물이 깨져서 이렇게 후처리 해야했다.\n",
    "output1=\"\"\n",
    "\n",
    "import re\n",
    "\n",
    "def decode_unicode_escapes(input_str):\n",
    "    # 유니코드 이스케이프 시퀀스를 찾는 정규 표현식\n",
    "    def decode_match(match):\n",
    "        return match.group(0).encode('utf-8').decode('unicode_escape')\n",
    "    \n",
    "    # 유니코드 이스케이프 시퀀스에 해당하는 부분만 디코딩\n",
    "    # \\\\u[0-9a-fA-F]{4}: 유니코드 이스케이프 시퀀스를 찾기 위한 패턴\n",
    "    # \\\\u: 유니코드 이스케이프 시퀀스의 시작을 나타냄\n",
    "    output_str = re.sub(r'(\\\\u[0-9a-fA-F]{4})+', decode_match, input_str)\n",
    "    \n",
    "    return output_str\n",
    "\n",
    "output1 = decode_unicode_escapes(output)\n",
    "print(output1)"
   ]
  },
  {
   "cell_type": "markdown",
   "metadata": {},
   "source": [
    "### parser 가 추가된 체인 생성"
   ]
  },
  {
   "cell_type": "code",
   "execution_count": 21,
   "metadata": {},
   "outputs": [
    {
     "name": "stdout",
     "output_type": "stream",
     "text": [
      "person='김철수' email='chulsoo.kim@bikecorporation.me' subject='\"ZENESIS\" 자전거 유통 협력 및 미팅 일정 제안' summary=\"바이크코퍼레이션의 김철수 상무가 테디인터내셔널의 이은채 대리에게 신규 자전거 'ZENESIS' 모델에 대한 브로슈어 요청과 유통 협력 논의를 위한 미팅을 제안함. 미팅 일정은 1월 15일 화요일 오전 10시로 제안됨.\" date='1월 15일 화요일 오전 10시'\n"
     ]
    }
   ],
   "source": [
    "chain = prompt | llm | parser\n",
    "# chain 을 실행하고 결과를 출력합니다.\n",
    "response = chain.invoke(\n",
    "    {\n",
    "        \"email_conversation\": email_conversation,\n",
    "        \"question\": \"이메일 내용중 주요 내용을 추출해 주세요.\",\n",
    "    }\n",
    ")\n",
    "\n",
    "# 결과는 EmailSummary 객체 형태로 출력됩니다.\n",
    "print(response)"
   ]
  },
  {
   "cell_type": "markdown",
   "metadata": {},
   "source": [
    "### with_structured_output()\n",
    "* EmailSummary로 개체 하나하나 지정하기 귀찮으면\n",
    "* .with_structured_output(Pydantic)을 사용하여 출력 파서를 추가하면된다.\n",
    "* 위에 했던것과 결과물은 같을것이다."
   ]
  },
  {
   "cell_type": "code",
   "execution_count": 22,
   "metadata": {},
   "outputs": [
    {
     "data": {
      "text/plain": [
       "EmailSummary(person='김철수', email='chulsoo.kim@bikecorporation.me', subject='\"ZENESIS\" 자전거 유통 협력 및 미팅 일정 제안', summary='바이크코퍼레이션의 김철수 상무가 테디인터내셔널의 이은채 대리에게 ZENESIS 자전거 모델에 대한 브로슈어 요청과 유통 협력 논의를 위한 미팅을 제안합니다. 미팅은 다음 주 화요일(1월 15일) 오전 10시에 제안되었습니다.', date='1월 15일 오전 10시')"
      ]
     },
     "execution_count": 22,
     "metadata": {},
     "output_type": "execute_result"
    }
   ],
   "source": [
    "llm_with_structered = ChatOpenAI(\n",
    "    temperature=0, model_name=\"gpt-4o\"\n",
    ").with_structured_output(EmailSummary)\n",
    "\n",
    "# invoke() 함수를 호출하여 결과를 출력합니다.\n",
    "answer = llm_with_structered.invoke(email_conversation)\n",
    "answer\n",
    "# 훨씬 간편하게 파싱을 했고, 결과물이 같은 것을 확인할수 있다."
   ]
  }
 ],
 "metadata": {
  "kernelspec": {
   "display_name": ".venv",
   "language": "python",
   "name": "python3"
  },
  "language_info": {
   "codemirror_mode": {
    "name": "ipython",
    "version": 3
   },
   "file_extension": ".py",
   "mimetype": "text/x-python",
   "name": "python",
   "nbconvert_exporter": "python",
   "pygments_lexer": "ipython3",
   "version": "3.11.5"
  }
 },
 "nbformat": 4,
 "nbformat_minor": 2
}
